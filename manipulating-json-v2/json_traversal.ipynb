{
 "cells": [
  {
   "cell_type": "code",
   "execution_count": 15,
   "metadata": {},
   "outputs": [],
   "source": [
    "# Dependencies\n",
    "import json\n",
    "from pathlib import Path\n",
    "\n",
    "# Load JSON\n",
    "filepath = Path(\"../Resources/video_api_response.json\")\n",
    "with open(filepath) as jsonfile:\n",
    "    video_json = json.load(jsonfile)\n",
    "    "
   ]
  },
  {
   "cell_type": "code",
   "execution_count": 21,
   "metadata": {},
   "outputs": [
    {
     "name": "stdout",
     "output_type": "stream",
     "text": [
      "{\n",
      "    \"data\": {\n",
      "        \"items\": [\n",
      "            {\n",
      "                \"aspectRatio\": \"widescreen\",\n",
      "                \"category\": \"Educational\",\n",
      "                \"commentCount\": 3,\n",
      "                \"description\": \"This is the an introduction course to Python programming.\",\n",
      "                \"duration\": 45,\n",
      "                \"favoriteCount\": 21,\n",
      "                \"id\": \"1234567890\",\n",
      "                \"rating\": 2.35,\n",
      "                \"ratingCount\": 453,\n",
      "                \"tags\": [\n",
      "                    \"Python\",\n",
      "                    \"Data\",\n",
      "                    \"Coding\"\n",
      "                ],\n",
      "                \"title\": \"Introduction to Python Programming\",\n",
      "                \"updated\": \"2021-06-07T12:00:00.000Z\",\n",
      "                \"uploaded\": \"2021-06-05T12:00:00.000Z\",\n",
      "                \"viewCount\": 1350\n",
      "            }\n",
      "        ],\n",
      "        \"itemsPerPage\": 1,\n",
      "        \"startIndex\": 1,\n",
      "        \"totalItems\": 10,\n",
      "        \"updated\": \"2021-06-07T12:00:00.000Z\"\n",
      "    }\n",
      "}\n",
      "The video's title is: Introduction to Python Programming\n"
     ]
    }
   ],
   "source": [
    "# Isolate \"data items\" for easy reading\n",
    "print(json.dumps(video_json, indent=4, sort_keys=True))\n",
    "data = video_json[\"data\"]\n",
    "data_items = [\"items\"]\n",
    "# Retrieve the video's title\n",
    "video_title = data[\"items\"][0][\"title\"]\n",
    "print(f\"The video's title is: {video_title}\")"
   ]
  },
  {
   "cell_type": "code",
   "execution_count": 22,
   "metadata": {},
   "outputs": [
    {
     "name": "stdout",
     "output_type": "stream",
     "text": [
      "The video's rating is: 2.35\n"
     ]
    }
   ],
   "source": [
    "# Retrieve the video's rating\n",
    "video_rating = data[\"items\"][0][\"rating\"]\n",
    "print(f\"The video's rating is: {video_rating}\")"
   ]
  },
  {
   "cell_type": "code",
   "execution_count": 23,
   "metadata": {},
   "outputs": [
    {
     "name": "stdout",
     "output_type": "stream",
     "text": [
      "The video's first tag is: Python\n"
     ]
    }
   ],
   "source": [
    "# Retrieve the link to the video's first tag\n",
    "first_tag = data[\"items\"][0][\"tags\"][0]\n",
    "print(f\"The video's first tag is: {first_tag}\")"
   ]
  },
  {
   "cell_type": "code",
   "execution_count": 24,
   "metadata": {},
   "outputs": [
    {
     "name": "stdout",
     "output_type": "stream",
     "text": [
      "The video has 1350 views.\n"
     ]
    }
   ],
   "source": [
    "# Retrieve the number of views this video has\n",
    "num_views = data[\"items\"][0][\"viewCount\"]\n",
    "print(f\"The video has {num_views} views.\")"
   ]
  },
  {
   "cell_type": "code",
   "execution_count": null,
   "metadata": {},
   "outputs": [],
   "source": []
  }
 ],
 "metadata": {
  "kernelspec": {
   "display_name": "Python 3 (ipykernel)",
   "language": "python",
   "name": "python3"
  },
  "language_info": {
   "codemirror_mode": {
    "name": "ipython",
    "version": 3
   },
   "file_extension": ".py",
   "mimetype": "text/x-python",
   "name": "python",
   "nbconvert_exporter": "python",
   "pygments_lexer": "ipython3",
   "version": "3.12.3"
  },
  "varInspector": {
   "cols": {
    "lenName": 16,
    "lenType": 16,
    "lenVar": 40
   },
   "kernels_config": {
    "python": {
     "delete_cmd_postfix": "",
     "delete_cmd_prefix": "del ",
     "library": "var_list.py",
     "varRefreshCmd": "print(var_dic_list())"
    },
    "r": {
     "delete_cmd_postfix": ") ",
     "delete_cmd_prefix": "rm(",
     "library": "var_list.r",
     "varRefreshCmd": "cat(var_dic_list()) "
    }
   },
   "types_to_exclude": [
    "module",
    "function",
    "builtin_function_or_method",
    "instance",
    "_Feature"
   ],
   "window_display": false
  }
 },
 "nbformat": 4,
 "nbformat_minor": 2
}
